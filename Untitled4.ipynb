{
  "nbformat": 4,
  "nbformat_minor": 0,
  "metadata": {
    "colab": {
      "provenance": [],
      "authorship_tag": "ABX9TyMJuA0xZ0+hGj8dcKWemqNp",
      "include_colab_link": true
    },
    "kernelspec": {
      "name": "python3",
      "display_name": "Python 3"
    },
    "language_info": {
      "name": "python"
    }
  },
  "cells": [
    {
      "cell_type": "markdown",
      "metadata": {
        "id": "view-in-github",
        "colab_type": "text"
      },
      "source": [
        "<a href=\"https://colab.research.google.com/github/JadeNjoki/PLP-PYTHON-WEEK-FIVE/blob/main/Untitled4.ipynb\" target=\"_parent\"><img src=\"https://colab.research.google.com/assets/colab-badge.svg\" alt=\"Open In Colab\"/></a>"
      ]
    },
    {
      "cell_type": "code",
      "execution_count": null,
      "metadata": {
        "id": "Qk3K6ev5iw33"
      },
      "outputs": [],
      "source": [
        "# Parent class\n",
        "class Smartphone:\n",
        "    def __init__(self, brand, model, price):\n",
        "        self.brand = brand\n",
        "        self.model = model\n",
        "        self.__price = price  # Private attribute (Encapsulation)\n",
        "\n",
        "    def get_price(self):  # Getter method for private attribute\n",
        "        return self.__price\n",
        "\n",
        "    def show_info(self):\n",
        "        print(f\"Brand: {self.brand}, Model: {self.model}, Price: ${self.__price}\")\n",
        "\n",
        "# Child class inheriting from Smartphone\n",
        "class GamingPhone(Smartphone):\n",
        "    def __init__(self, brand, model, price, gpu):\n",
        "        super().__init__(brand, model, price)\n",
        "        self.gpu = gpu\n",
        "\n",
        "    def show_info(self):\n",
        "        print(f\"Brand: {self.brand}, Model: {self.model}, GPU: {self.gpu}, Price: ${self.get_price()}\")\n",
        "\n",
        "# Creating objects\n",
        "phone1 = Smartphone(\"Samsung\", \"Galaxy S21\", 999)\n",
        "gaming_phone = GamingPhone(\"Asus\", \"ROG Phone 6\", 1199, \"Adreno 730\")\n",
        "\n",
        "phone1.show_info()\n",
        "gaming_phone.show_info()\n"
      ]
    }
  ]
}